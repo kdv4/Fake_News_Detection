{
  "nbformat": 4,
  "nbformat_minor": 0,
  "metadata": {
    "colab": {
      "name": "code_FA-KES.ipynb",
      "provenance": [],
      "collapsed_sections": []
    },
    "kernelspec": {
      "name": "python3",
      "display_name": "Python 3"
    },
    "language_info": {
      "name": "python"
    },
    "accelerator": "GPU"
  },
  "cells": [
    {
      "cell_type": "markdown",
      "metadata": {
        "id": "zE5iZxaNXayy"
      },
      "source": [
        ""
      ]
    },
    {
      "cell_type": "code",
      "metadata": {
        "colab": {
          "base_uri": "https://localhost:8080/"
        },
        "id": "wzcRrOQXXvA8",
        "outputId": "0187777e-0fc5-4859-ce1a-e8798c3047a8"
      },
      "source": [
        "from google.colab import drive\n",
        "drive.mount('/content/drive')"
      ],
      "execution_count": null,
      "outputs": [
        {
          "output_type": "stream",
          "text": [
            "Mounted at /content/drive\n"
          ],
          "name": "stdout"
        }
      ]
    },
    {
      "cell_type": "markdown",
      "metadata": {
        "id": "s84zSYcrXZUD"
      },
      "source": [
        ""
      ]
    },
    {
      "cell_type": "markdown",
      "metadata": {
        "id": "egU0F6dyXaNH"
      },
      "source": [
        ""
      ]
    },
    {
      "cell_type": "code",
      "metadata": {
        "id": "Zg0n7W8HO4SP"
      },
      "source": [
        "import pandas as pd\n",
        "import re\n",
        "import os \n",
        "import keras\n",
        "import numpy as np\n",
        "\n",
        "from keras.preprocessing.text import Tokenizer\n",
        "from keras.preprocessing.sequence import pad_sequences\n",
        "\n",
        "from keras.layers import Dense, Input, Flatten\n",
        "from keras.layers import Conv1D, MaxPooling1D, Embedding, Dropout\n",
        "from keras.layers import LSTM\n",
        "from keras.layers import BatchNormalization\n",
        "from keras.models import Model"
      ],
      "execution_count": null,
      "outputs": []
    },
    {
      "cell_type": "code",
      "metadata": {
        "id": "Gyvek65xZmaf"
      },
      "source": [
        "MAX_SEQUENCE_LENGTH = 300\n",
        "MAX_NB_WORDS = 200000\n",
        "EMBEDDING_DIM = 100\n",
        "VALIDATION_SPLIT = 0.2"
      ],
      "execution_count": null,
      "outputs": []
    },
    {
      "cell_type": "code",
      "metadata": {
        "id": "89x1YVl2U_ma",
        "colab": {
          "base_uri": "https://localhost:8080/",
          "height": 195
        },
        "outputId": "87efc266-6feb-4665-c682-9cf1d2d86f7d"
      },
      "source": [
        "data_train = pd.read_csv(\"/content/drive/Shareddrives/PRML_Fake News/FA-KES-Dataset.csv\", encoding ='ISO-8859-1')\n",
        "data_train.head()"
      ],
      "execution_count": null,
      "outputs": [
        {
          "output_type": "execute_result",
          "data": {
            "text/html": [
              "<div>\n",
              "<style scoped>\n",
              "    .dataframe tbody tr th:only-of-type {\n",
              "        vertical-align: middle;\n",
              "    }\n",
              "\n",
              "    .dataframe tbody tr th {\n",
              "        vertical-align: top;\n",
              "    }\n",
              "\n",
              "    .dataframe thead th {\n",
              "        text-align: right;\n",
              "    }\n",
              "</style>\n",
              "<table border=\"1\" class=\"dataframe\">\n",
              "  <thead>\n",
              "    <tr style=\"text-align: right;\">\n",
              "      <th></th>\n",
              "      <th>unit_id</th>\n",
              "      <th>article_title</th>\n",
              "      <th>article_content</th>\n",
              "      <th>source</th>\n",
              "      <th>date</th>\n",
              "      <th>location</th>\n",
              "      <th>labels</th>\n",
              "    </tr>\n",
              "  </thead>\n",
              "  <tbody>\n",
              "    <tr>\n",
              "      <th>0</th>\n",
              "      <td>1914947530</td>\n",
              "      <td>Syria attack symptoms consistent with nerve ag...</td>\n",
              "      <td>Wed 05 Apr 2017 Syria attack symptoms consiste...</td>\n",
              "      <td>nna</td>\n",
              "      <td>4/5/2017</td>\n",
              "      <td>idlib</td>\n",
              "      <td>0</td>\n",
              "    </tr>\n",
              "    <tr>\n",
              "      <th>1</th>\n",
              "      <td>1914947532</td>\n",
              "      <td>Homs governor says U.S. attack caused deaths b...</td>\n",
              "      <td>Fri 07 Apr 2017 at 0914 Homs governor says U.S...</td>\n",
              "      <td>nna</td>\n",
              "      <td>4/7/2017</td>\n",
              "      <td>homs</td>\n",
              "      <td>0</td>\n",
              "    </tr>\n",
              "    <tr>\n",
              "      <th>2</th>\n",
              "      <td>1914947533</td>\n",
              "      <td>Death toll from Aleppo bomb attack at least 112</td>\n",
              "      <td>Sun 16 Apr 2017 Death toll from Aleppo bomb at...</td>\n",
              "      <td>nna</td>\n",
              "      <td>4/16/2017</td>\n",
              "      <td>aleppo</td>\n",
              "      <td>0</td>\n",
              "    </tr>\n",
              "    <tr>\n",
              "      <th>3</th>\n",
              "      <td>1914947534</td>\n",
              "      <td>Aleppo bomb blast kills six Syrian state TV</td>\n",
              "      <td>Wed 19 Apr 2017 Aleppo bomb blast kills six Sy...</td>\n",
              "      <td>nna</td>\n",
              "      <td>4/19/2017</td>\n",
              "      <td>aleppo</td>\n",
              "      <td>0</td>\n",
              "    </tr>\n",
              "    <tr>\n",
              "      <th>4</th>\n",
              "      <td>1914947535</td>\n",
              "      <td>29 Syria Rebels Dead in Fighting for Key Alepp...</td>\n",
              "      <td>Sun 10 Jul 2016 29 Syria Rebels Dead in Fighti...</td>\n",
              "      <td>nna</td>\n",
              "      <td>7/10/2016</td>\n",
              "      <td>aleppo</td>\n",
              "      <td>0</td>\n",
              "    </tr>\n",
              "  </tbody>\n",
              "</table>\n",
              "</div>"
            ],
            "text/plain": [
              "      unit_id  ... labels\n",
              "0  1914947530  ...      0\n",
              "1  1914947532  ...      0\n",
              "2  1914947533  ...      0\n",
              "3  1914947534  ...      0\n",
              "4  1914947535  ...      0\n",
              "\n",
              "[5 rows x 7 columns]"
            ]
          },
          "metadata": {
            "tags": []
          },
          "execution_count": 4
        }
      ]
    },
    {
      "cell_type": "code",
      "metadata": {
        "colab": {
          "base_uri": "https://localhost:8080/"
        },
        "id": "obcU6NhIZHN_",
        "outputId": "fb9a8c82-78f5-4aa8-f251-aeb679b30b98"
      },
      "source": [
        "texts = []\n",
        "labels = []\n",
        "\n",
        "for i in range(data_train.article_content.shape[0]):\n",
        "    text1 = data_train.article_title[i]\n",
        "    text2 = data_train.article_content[i]\n",
        "    text = str(text1) +\"\"+ str(text2)\n",
        "    texts.append(text)\n",
        "    labels.append(data_train.labels[i])\n",
        "    \n",
        "tokenizer = Tokenizer(num_words=MAX_NB_WORDS)\n",
        "tokenizer.fit_on_texts(texts)\n",
        "sequences = tokenizer.texts_to_sequences(texts)\n",
        "\n",
        "word_index = tokenizer.word_index\n",
        "print('Found %s unique tokens.' % len(word_index))"
      ],
      "execution_count": null,
      "outputs": [
        {
          "output_type": "stream",
          "text": [
            "Found 10776 unique tokens.\n"
          ],
          "name": "stdout"
        }
      ]
    },
    {
      "cell_type": "code",
      "metadata": {
        "colab": {
          "base_uri": "https://localhost:8080/"
        },
        "id": "fsheNyUVZsDe",
        "outputId": "49a8ccf7-d907-4df9-f1bd-b7c308f18f8f"
      },
      "source": [
        "data = pad_sequences(sequences, maxlen=MAX_SEQUENCE_LENGTH)\n",
        "labels = keras.utils.to_categorical(np.asarray(labels),num_classes = 2)\n",
        "labels = np.asarray(labels)\n",
        "print('Shape of data tensor:', data.shape)\n",
        "print('Shape of label tensor:', labels.shape)"
      ],
      "execution_count": null,
      "outputs": [
        {
          "output_type": "stream",
          "text": [
            "Shape of data tensor: (804, 300)\n",
            "Shape of label tensor: (804, 2)\n"
          ],
          "name": "stdout"
        }
      ]
    },
    {
      "cell_type": "code",
      "metadata": {
        "colab": {
          "base_uri": "https://localhost:8080/"
        },
        "id": "dytzJkAtZ0g-",
        "outputId": "39b30238-d5b9-4826-916a-39df5f3a8eb4"
      },
      "source": [
        "# Train test validation Split\n",
        "from sklearn.model_selection import train_test_split\n",
        "\n",
        "indices = np.arange(data.shape[0])\n",
        "np.random.shuffle(indices)\n",
        "data = data[indices]\n",
        "labels = labels[indices]\n",
        "x_train, x_test, y_train, y_test = train_test_split( data, labels, test_size=0.20, random_state=42)\n",
        "x_test, x_val, y_test, y_val = train_test_split( x_test, y_test, test_size=0.50, random_state=42)\n",
        "print('Size of train, test:', len(y_train), len(y_val), len(y_test))\n",
        "\n",
        "print('real & fake news in train, test:')\n",
        "print(y_train.sum(axis=0))\n",
        "print(y_val.sum(axis=0))\n",
        "print(y_test.sum(axis=0))"
      ],
      "execution_count": null,
      "outputs": [
        {
          "output_type": "stream",
          "text": [
            "Size of train, test: 643 81 80\n",
            "real & fake news in train, test:\n",
            "[303. 340.]\n",
            "[33. 48.]\n",
            "[42. 38.]\n"
          ],
          "name": "stdout"
        }
      ]
    },
    {
      "cell_type": "code",
      "metadata": {
        "id": "y2MnaBZfacpF"
      },
      "source": [
        "from keras.models import Sequential\n",
        "from matplotlib import pyplot as plt\n",
        "\n",
        "%matplotlib inline"
      ],
      "execution_count": null,
      "outputs": []
    },
    {
      "cell_type": "code",
      "metadata": {
        "id": "P6WdDU9fTVXx",
        "colab": {
          "base_uri": "https://localhost:8080/"
        },
        "outputId": "250f7554-fbdb-46e3-8d81-cacde2aab596"
      },
      "source": [
        "#Using Pre-trained word embeddings\n",
        "GLOVE_DIR = \"/content/drive/Shareddrives/PRML_Fake News/glove\" \n",
        "embeddings_index = {}\n",
        "f = open(os.path.join(GLOVE_DIR, 'glove.6B.100d.txt'), encoding=\"utf8\")\n",
        "for line in f:\n",
        "    values = line.split()\n",
        "    #print(values[1:])\n",
        "    word = values[0]\n",
        "    coefs = np.asarray(values[1:], dtype='float32')\n",
        "    embeddings_index[word] = coefs\n",
        "f.close()\n",
        "\n",
        "print('Total %s word vectors in Glove.' % len(embeddings_index))\n",
        "\n",
        "embedding_matrix = np.zeros((len(word_index) + 1, EMBEDDING_DIM))\n",
        "for word, i in word_index.items():\n",
        "    embedding_vector = embeddings_index.get(word)\n",
        "    if embedding_vector is not None:\n",
        "        # words not found in embedding index will be all-zeros.\n",
        "        embedding_matrix[i] = embedding_vector\n",
        "        \n",
        "embedding_layer = Embedding(len(word_index) + 1,\n",
        "                            EMBEDDING_DIM,\n",
        "                            weights=[embedding_matrix],\n",
        "                            input_length=MAX_SEQUENCE_LENGTH)"
      ],
      "execution_count": null,
      "outputs": [
        {
          "output_type": "stream",
          "text": [
            "Total 400000 word vectors in Glove.\n"
          ],
          "name": "stdout"
        }
      ]
    },
    {
      "cell_type": "code",
      "metadata": {
        "colab": {
          "base_uri": "https://localhost:8080/"
        },
        "id": "4huinwBJYI2_",
        "outputId": "f5324999-9aa9-4c73-8c68-fe74dfc8771c"
      },
      "source": [
        "EPOCHS = 25\n",
        "\n",
        "modell = Sequential()\n",
        "modell.add(embedding_layer)\n",
        "modell.add(Dropout(0.2))\n",
        "modell.add(Conv1D(filters=128, kernel_size=5, padding='valid', activation='relu'))\n",
        "modell.add(MaxPooling1D(pool_size=2))\n",
        "modell.add(LSTM(100, dropout=0.2))\n",
        "modell.add(BatchNormalization())\n",
        "\n",
        "# modell.add(Dense(256, activation='relu'))\n",
        "# modell.add(Dense(64, activation='relu'))\n",
        "modell.add(Dense(32, activation='relu'))\n",
        "modell.add(Dense(2, activation='softmax'))\n",
        "modell.compile(loss='binary_crossentropy', optimizer='adam', metrics=['accuracy'])\n",
        "print(modell.summary())\n",
        "history=modell.fit(x_train, y_train, epochs=EPOCHS, batch_size=64, validation_data=(x_val,y_val))\n",
        "\n",
        "modell.save('lstm.h5')"
      ],
      "execution_count": null,
      "outputs": [
        {
          "output_type": "stream",
          "text": [
            "Model: \"sequential_40\"\n",
            "_________________________________________________________________\n",
            "Layer (type)                 Output Shape              Param #   \n",
            "=================================================================\n",
            "embedding_5 (Embedding)      (None, 300, 100)          1077700   \n",
            "_________________________________________________________________\n",
            "dropout_8 (Dropout)          (None, 300, 100)          0         \n",
            "_________________________________________________________________\n",
            "conv1d_44 (Conv1D)           (None, 296, 128)          64128     \n",
            "_________________________________________________________________\n",
            "max_pooling1d_44 (MaxPooling (None, 148, 128)          0         \n",
            "_________________________________________________________________\n",
            "lstm_39 (LSTM)               (None, 100)               91600     \n",
            "_________________________________________________________________\n",
            "batch_normalization_33 (Batc (None, 100)               400       \n",
            "_________________________________________________________________\n",
            "dense_82 (Dense)             (None, 32)                3232      \n",
            "_________________________________________________________________\n",
            "dense_83 (Dense)             (None, 2)                 66        \n",
            "=================================================================\n",
            "Total params: 1,237,126\n",
            "Trainable params: 1,236,926\n",
            "Non-trainable params: 200\n",
            "_________________________________________________________________\n",
            "None\n",
            "Epoch 1/25\n",
            "11/11 [==============================] - 2s 69ms/step - loss: 0.8376 - accuracy: 0.5314 - val_loss: 0.6904 - val_accuracy: 0.5802\n",
            "Epoch 2/25\n",
            "11/11 [==============================] - 0s 30ms/step - loss: 0.5338 - accuracy: 0.7491 - val_loss: 0.7634 - val_accuracy: 0.3457\n",
            "Epoch 3/25\n",
            "11/11 [==============================] - 0s 29ms/step - loss: 0.3621 - accuracy: 0.8653 - val_loss: 0.8860 - val_accuracy: 0.3951\n",
            "Epoch 4/25\n",
            "11/11 [==============================] - 0s 30ms/step - loss: 0.2740 - accuracy: 0.8933 - val_loss: 0.7260 - val_accuracy: 0.6049\n",
            "Epoch 5/25\n",
            "11/11 [==============================] - 0s 28ms/step - loss: 0.2303 - accuracy: 0.9179 - val_loss: 0.7426 - val_accuracy: 0.5309\n",
            "Epoch 6/25\n",
            "11/11 [==============================] - 0s 29ms/step - loss: 0.2383 - accuracy: 0.9082 - val_loss: 0.7711 - val_accuracy: 0.4198\n",
            "Epoch 7/25\n",
            "11/11 [==============================] - 0s 31ms/step - loss: 0.1895 - accuracy: 0.9442 - val_loss: 0.7926 - val_accuracy: 0.5926\n",
            "Epoch 8/25\n",
            "11/11 [==============================] - 0s 29ms/step - loss: 0.2777 - accuracy: 0.8933 - val_loss: 1.1164 - val_accuracy: 0.5926\n",
            "Epoch 9/25\n",
            "11/11 [==============================] - 0s 28ms/step - loss: 0.2477 - accuracy: 0.9238 - val_loss: 1.0329 - val_accuracy: 0.5926\n",
            "Epoch 10/25\n",
            "11/11 [==============================] - 0s 29ms/step - loss: 0.1787 - accuracy: 0.9391 - val_loss: 0.8305 - val_accuracy: 0.5926\n",
            "Epoch 11/25\n",
            "11/11 [==============================] - 0s 28ms/step - loss: 0.1785 - accuracy: 0.9382 - val_loss: 1.2977 - val_accuracy: 0.5926\n",
            "Epoch 12/25\n",
            "11/11 [==============================] - 0s 28ms/step - loss: 0.1971 - accuracy: 0.9362 - val_loss: 0.8566 - val_accuracy: 0.5926\n",
            "Epoch 13/25\n",
            "11/11 [==============================] - 0s 31ms/step - loss: 0.1585 - accuracy: 0.9434 - val_loss: 1.0517 - val_accuracy: 0.5679\n",
            "Epoch 14/25\n",
            "11/11 [==============================] - 0s 29ms/step - loss: 0.1547 - accuracy: 0.9426 - val_loss: 0.8390 - val_accuracy: 0.5309\n",
            "Epoch 15/25\n",
            "11/11 [==============================] - 0s 29ms/step - loss: 0.1328 - accuracy: 0.9571 - val_loss: 0.8201 - val_accuracy: 0.5185\n",
            "Epoch 16/25\n",
            "11/11 [==============================] - 0s 29ms/step - loss: 0.1258 - accuracy: 0.9573 - val_loss: 0.9338 - val_accuracy: 0.5309\n",
            "Epoch 17/25\n",
            "11/11 [==============================] - 0s 28ms/step - loss: 0.1190 - accuracy: 0.9592 - val_loss: 1.0554 - val_accuracy: 0.4815\n",
            "Epoch 18/25\n",
            "11/11 [==============================] - 0s 29ms/step - loss: 0.0961 - accuracy: 0.9697 - val_loss: 1.5311 - val_accuracy: 0.3951\n",
            "Epoch 19/25\n",
            "11/11 [==============================] - 0s 31ms/step - loss: 0.0960 - accuracy: 0.9624 - val_loss: 1.0778 - val_accuracy: 0.5185\n",
            "Epoch 20/25\n",
            "11/11 [==============================] - 0s 30ms/step - loss: 0.0664 - accuracy: 0.9759 - val_loss: 1.7085 - val_accuracy: 0.4321\n",
            "Epoch 21/25\n",
            "11/11 [==============================] - 0s 29ms/step - loss: 0.0735 - accuracy: 0.9713 - val_loss: 1.1832 - val_accuracy: 0.4815\n",
            "Epoch 22/25\n",
            "11/11 [==============================] - 0s 29ms/step - loss: 0.1137 - accuracy: 0.9535 - val_loss: 1.6077 - val_accuracy: 0.3951\n",
            "Epoch 23/25\n",
            "11/11 [==============================] - 0s 28ms/step - loss: 0.1049 - accuracy: 0.9603 - val_loss: 0.9466 - val_accuracy: 0.5432\n",
            "Epoch 24/25\n",
            "11/11 [==============================] - 0s 29ms/step - loss: 0.1437 - accuracy: 0.9480 - val_loss: 1.4531 - val_accuracy: 0.5926\n",
            "Epoch 25/25\n",
            "11/11 [==============================] - 0s 30ms/step - loss: 0.1357 - accuracy: 0.9515 - val_loss: 2.0563 - val_accuracy: 0.5926\n"
          ],
          "name": "stdout"
        }
      ]
    },
    {
      "cell_type": "code",
      "metadata": {
        "colab": {
          "base_uri": "https://localhost:8080/",
          "height": 545
        },
        "id": "FUNNBtURJgDO",
        "outputId": "cef80385-a55c-41e3-c5c9-bbde9fa0db50"
      },
      "source": [
        "import matplotlib.pyplot as plt\n",
        "import seaborn as sns\n",
        "\n",
        "plt.plot(range(EPOCHS),history.history['loss'])\n",
        "plt.plot(range(EPOCHS),history.history['val_loss'])\n",
        "plt.title(\"Training loss and validation loss v/s epoch\")\n",
        "plt.legend([\"Training_loss\",\"Validation_loss\"])\n",
        "plt.savefig(\"Kaggle Training loss and validation loss.png\")\n",
        "\n",
        "plt.figure()\n",
        "plt.plot(range(EPOCHS),history.history['accuracy'])\n",
        "plt.plot(range(EPOCHS),history.history['val_accuracy'])\n",
        "plt.title(\"Training accuracy and validation accuracy v/s epoch\")\n",
        "plt.legend([\"Training_accuracy\",\"Validation_accuracy\"])\n",
        "plt.savefig(\"Kaggle Training accuracy and validation accuracy.png\")"
      ],
      "execution_count": null,
      "outputs": [
        {
          "output_type": "display_data",
          "data": {
            "image/png": "[encoded data removed]",
            "text/plain": [
              "<Figure size 432x288 with 1 Axes>"
            ]
          },
          "metadata": {
            "tags": [],
            "needs_background": "light"
          }
        },
        {
          "output_type": "display_data",
          "data": {
            "image/png": "[encoded data removed]",
            "text/plain": [
              "<Figure size 432x288 with 1 Axes>"
            ]
          },
          "metadata": {
            "tags": [],
            "needs_background": "light"
          }
        }
      ]
    },
    {
      "cell_type": "code",
      "metadata": {
        "colab": {
          "base_uri": "https://localhost:8080/",
          "height": 56
        },
        "id": "EDvKJ5wMboud",
        "outputId": "a109effa-be69-4708-d915-7544800dbf84"
      },
      "source": [
        "keras.utils.plot_model(modell, show_shapes=True, rankdir='LR', to_file=\"kaggle_cnn_rnn_model_plot.png\")"
      ],
      "execution_count": null,
      "outputs": [
        {
          "output_type": "execute_result",
          "data": {
            "image/png": "[encoded data removed]",
            "text/plain": [
              "<IPython.core.display.Image object>"
            ]
          },
          "metadata": {
            "tags": []
          },
          "execution_count": 101
        }
      ]
    },
    {
      "cell_type": "code",
      "metadata": {
        "id": "QhdvnIjjdKG5"
      },
      "source": [
        ""
      ],
      "execution_count": null,
      "outputs": []
    }
  ]
}