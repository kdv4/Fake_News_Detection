{
  "nbformat": 4,
  "nbformat_minor": 0,
  "metadata": {
    "colab": {
      "name": "Train_ISOT.ipynb",
      "provenance": [],
      "collapsed_sections": [],
      "toc_visible": true,
      "include_colab_link": true
    },
    "kernelspec": {
      "name": "python3",
      "display_name": "Python 3"
    },
    "language_info": {
      "name": "python"
    },
    "accelerator": "GPU"
  },
  "cells": [
    {
      "cell_type": "markdown",
      "metadata": {
        "id": "view-in-github",
        "colab_type": "text"
      },
      "source": [
        "<a href=\"https://colab.research.google.com/github/kdv4/Fake_News_Detection/blob/main/Train_ISOT.ipynb\" target=\"_parent\"><img src=\"https://colab.research.google.com/assets/colab-badge.svg\" alt=\"Open In Colab\"/></a>"
      ]
    },
    {
      "cell_type": "markdown",
      "metadata": {
        "id": "GpvaApimXqpa"
      },
      "source": [
        "# Fake News Detection using hybrid CNN and RNN approach\n",
        "For ISOT Dataset<br><br>\n",
        "@author: <br> Kishan Vaishnani <br> Dhyanil Mehta\n"
      ]
    },
    {
      "cell_type": "code",
      "metadata": {
        "colab": {
          "base_uri": "https://localhost:8080/"
        },
        "id": "wzcRrOQXXvA8",
        "outputId": "b243ef24-af8a-485c-f7d6-ed30a222b588"
      },
      "source": [
        "from google.colab import drive\n",
        "drive.mount('/content/drive')"
      ],
      "execution_count": null,
      "outputs": [
        {
          "output_type": "stream",
          "text": [
            "Mounted at /content/drive\n"
          ],
          "name": "stdout"
        }
      ]
    },
    {
      "cell_type": "markdown",
      "metadata": {
        "id": "qXDqWEOaYFfV"
      },
      "source": [
        "## Importing Useful libraries"
      ]
    },
    {
      "cell_type": "code",
      "metadata": {
        "id": "Zg0n7W8HO4SP"
      },
      "source": [
        "import pandas as pd\n",
        "import re\n",
        "import os \n",
        "import keras\n",
        "import numpy as np\n",
        "\n",
        "from keras.preprocessing.text import Tokenizer\n",
        "from keras.preprocessing.sequence import pad_sequences\n",
        "from keras.utils.np_utils import to_categorical\n",
        "\n",
        "from keras.layers import Embedding\n",
        "from keras.layers import Dense, Input, Flatten\n",
        "from keras.layers import Conv1D, MaxPooling1D, Embedding, Dropout\n",
        "from keras.models import Model"
      ],
      "execution_count": null,
      "outputs": []
    },
    {
      "cell_type": "markdown",
      "metadata": {
        "id": "M6__h0-bYykJ"
      },
      "source": [
        "## Hyperparameter"
      ]
    },
    {
      "cell_type": "code",
      "metadata": {
        "id": "Gyvek65xZmaf"
      },
      "source": [
        "MAX_SEQUENCE_LENGTH = 1000\n",
        "MAX_NB_WORDS = 200000\n",
        "EMBEDDING_DIM = 100\n",
        "VALIDATION_SPLIT = 0.2"
      ],
      "execution_count": null,
      "outputs": []
    },
    {
      "cell_type": "code",
      "metadata": {
        "id": "89x1YVl2U_ma"
      },
      "source": [
        "data_fake=pd.read_csv(\"/content/drive/Shareddrives/PRML_Fake News/News_dataset/Fake.csv\")\n",
        "data_true=pd.read_csv(\"/content/drive/Shareddrives/PRML_Fake News/News_dataset/True.csv\")"
      ],
      "execution_count": null,
      "outputs": []
    },
    {
      "cell_type": "code",
      "metadata": {
        "colab": {
          "base_uri": "https://localhost:8080/",
          "height": 204
        },
        "id": "6s-9kwXaV6Kd",
        "outputId": "22d2f8ee-69db-45dc-a560-5a3a074ee1cc"
      },
      "source": [
        "data_fake.head()\n",
        "data_true.head()"
      ],
      "execution_count": null,
      "outputs": [
        {
          "output_type": "execute_result",
          "data": {
            "text/html": [
              "<div>\n",
              "<style scoped>\n",
              "    .dataframe tbody tr th:only-of-type {\n",
              "        vertical-align: middle;\n",
              "    }\n",
              "\n",
              "    .dataframe tbody tr th {\n",
              "        vertical-align: top;\n",
              "    }\n",
              "\n",
              "    .dataframe thead th {\n",
              "        text-align: right;\n",
              "    }\n",
              "</style>\n",
              "<table border=\"1\" class=\"dataframe\">\n",
              "  <thead>\n",
              "    <tr style=\"text-align: right;\">\n",
              "      <th></th>\n",
              "      <th>title</th>\n",
              "      <th>text</th>\n",
              "      <th>subject</th>\n",
              "      <th>date</th>\n",
              "    </tr>\n",
              "  </thead>\n",
              "  <tbody>\n",
              "    <tr>\n",
              "      <th>0</th>\n",
              "      <td>As U.S. budget fight looms, Republicans flip t...</td>\n",
              "      <td>WASHINGTON (Reuters) - The head of a conservat...</td>\n",
              "      <td>politicsNews</td>\n",
              "      <td>December 31, 2017</td>\n",
              "    </tr>\n",
              "    <tr>\n",
              "      <th>1</th>\n",
              "      <td>U.S. military to accept transgender recruits o...</td>\n",
              "      <td>WASHINGTON (Reuters) - Transgender people will...</td>\n",
              "      <td>politicsNews</td>\n",
              "      <td>December 29, 2017</td>\n",
              "    </tr>\n",
              "    <tr>\n",
              "      <th>2</th>\n",
              "      <td>Senior U.S. Republican senator: 'Let Mr. Muell...</td>\n",
              "      <td>WASHINGTON (Reuters) - The special counsel inv...</td>\n",
              "      <td>politicsNews</td>\n",
              "      <td>December 31, 2017</td>\n",
              "    </tr>\n",
              "    <tr>\n",
              "      <th>3</th>\n",
              "      <td>FBI Russia probe helped by Australian diplomat...</td>\n",
              "      <td>WASHINGTON (Reuters) - Trump campaign adviser ...</td>\n",
              "      <td>politicsNews</td>\n",
              "      <td>December 30, 2017</td>\n",
              "    </tr>\n",
              "    <tr>\n",
              "      <th>4</th>\n",
              "      <td>Trump wants Postal Service to charge 'much mor...</td>\n",
              "      <td>SEATTLE/WASHINGTON (Reuters) - President Donal...</td>\n",
              "      <td>politicsNews</td>\n",
              "      <td>December 29, 2017</td>\n",
              "    </tr>\n",
              "  </tbody>\n",
              "</table>\n",
              "</div>"
            ],
            "text/plain": [
              "                                               title  ...                date\n",
              "0  As U.S. budget fight looms, Republicans flip t...  ...  December 31, 2017 \n",
              "1  U.S. military to accept transgender recruits o...  ...  December 29, 2017 \n",
              "2  Senior U.S. Republican senator: 'Let Mr. Muell...  ...  December 31, 2017 \n",
              "3  FBI Russia probe helped by Australian diplomat...  ...  December 30, 2017 \n",
              "4  Trump wants Postal Service to charge 'much mor...  ...  December 29, 2017 \n",
              "\n",
              "[5 rows x 4 columns]"
            ]
          },
          "metadata": {
            "tags": []
          },
          "execution_count": 5
        }
      ]
    },
    {
      "cell_type": "markdown",
      "metadata": {
        "id": "rDFmP8JFY3Re"
      },
      "source": [
        "## Preprocess Dataset:\n",
        "- Extracting tile and text field from the datset to train our network.\n",
        "- Combining this 2 column to make larger dataset to train\n",
        "- Tokenize this data using keras tokenizer "
      ]
    },
    {
      "cell_type": "code",
      "metadata": {
        "colab": {
          "base_uri": "https://localhost:8080/"
        },
        "id": "obcU6NhIZHN_",
        "outputId": "f2993cee-159c-4096-c019-a449a13bc4cb"
      },
      "source": [
        "texts = []\n",
        "labels = []\n",
        "\n",
        "for i in range(data_true.title.shape[0]):\n",
        "    text1 = data_true.title[i]\n",
        "    text2 = data_true.text[i]\n",
        "    text = str(text1) +\"\"+ str(text2)\n",
        "    texts.append(text)\n",
        "    labels.append(1)\n",
        "\n",
        "for i in range(data_fake.title.shape[0]):\n",
        "    text1 = data_fake.title[i]\n",
        "    text2 = data_fake.text[i]\n",
        "    text = str(text1) +\"\"+ str(text2)\n",
        "    texts.append(text)\n",
        "    labels.append(0)\n",
        "\n",
        "tokenizer = Tokenizer(num_words=MAX_NB_WORDS)\n",
        "tokenizer.fit_on_texts(texts)\n",
        "sequences = tokenizer.texts_to_sequences(texts)\n",
        "\n",
        "word_index = tokenizer.word_index\n",
        "print('Found %s unique tokens.' % len(word_index))"
      ],
      "execution_count": null,
      "outputs": [
        {
          "output_type": "stream",
          "text": [
            "Found 166697 unique tokens.\n"
          ],
          "name": "stdout"
        }
      ]
    },
    {
      "cell_type": "code",
      "metadata": {
        "colab": {
          "base_uri": "https://localhost:8080/"
        },
        "id": "fsheNyUVZsDe",
        "outputId": "aba6dff1-855e-4227-ec69-fdbc38b2dcd0"
      },
      "source": [
        "data = pad_sequences(sequences, maxlen=MAX_SEQUENCE_LENGTH)\n",
        "# labels = to_categorical(np.asarray(labels),num_classes = 2)\n",
        "labels = np.asarray(labels)\n",
        "print('Shape of data tensor:', data.shape)\n",
        "print('Shape of label tensor:', labels.shape)"
      ],
      "execution_count": null,
      "outputs": [
        {
          "output_type": "stream",
          "text": [
            "Shape of data tensor: (44898, 1000)\n",
            "Shape of label tensor: (44898,)\n"
          ],
          "name": "stdout"
        }
      ]
    },
    {
      "cell_type": "markdown",
      "metadata": {
        "id": "EnveKfYmbQxH"
      },
      "source": [
        "Train test data split"
      ]
    },
    {
      "cell_type": "code",
      "metadata": {
        "id": "dytzJkAtZ0g-"
      },
      "source": [
        "# Train test validation Split\n",
        "from sklearn.model_selection import train_test_split\n",
        "\n",
        "indices = np.arange(data.shape[0])\n",
        "np.random.shuffle(indices)\n",
        "data = data[indices]\n",
        "labels = labels[indices]\n",
        "x_train, x_test, y_train, y_test = train_test_split( data, labels, test_size=0.20)\n",
        "x_test, x_val, y_test, y_val = train_test_split( x_test, y_test, test_size=0.50)"
      ],
      "execution_count": null,
      "outputs": []
    },
    {
      "cell_type": "code",
      "metadata": {
        "id": "y2MnaBZfacpF"
      },
      "source": [
        "from keras.models import Sequential\n",
        "from keras.layers.convolutional import Conv3D\n",
        "from keras.layers.convolutional_recurrent import ConvLSTM2D\n",
        "from keras.layers.normalization import BatchNormalization\n",
        "import numpy as np\n",
        "from matplotlib import pyplot as plt\n",
        "from keras.layers import Dense, Embedding, LSTM, GRU\n",
        "\n",
        "%matplotlib inline"
      ],
      "execution_count": null,
      "outputs": []
    },
    {
      "cell_type": "markdown",
      "metadata": {
        "id": "9ozG3VlRbTxU"
      },
      "source": [
        "## Word Embedding\n",
        "We have used pre trained glove model to convert token into eord vector"
      ]
    },
    {
      "cell_type": "code",
      "metadata": {
        "id": "P6WdDU9fTVXx",
        "colab": {
          "base_uri": "https://localhost:8080/"
        },
        "outputId": "48afc3ef-5193-4d63-d8cb-11dc32eda258"
      },
      "source": [
        "#Using Pre-trained word embeddings\n",
        "GLOVE_DIR = \"/content/drive/Shareddrives/PRML_Fake News/glove\" \n",
        "embeddings_index = {}\n",
        "f = open(os.path.join(GLOVE_DIR, 'glove.6B.100d.txt'), encoding=\"utf8\")\n",
        "for line in f:\n",
        "    values = line.split()\n",
        "    #print(values[1:])\n",
        "    word = values[0]\n",
        "    coefs = np.asarray(values[1:], dtype='float32')\n",
        "    embeddings_index[word] = coefs\n",
        "f.close()\n",
        "\n",
        "print('Total %s word vectors in Glove.' % len(embeddings_index))\n",
        "\n",
        "embedding_matrix = np.random.random((len(word_index) + 1, EMBEDDING_DIM))\n",
        "for word, i in word_index.items():\n",
        "    embedding_vector = embeddings_index.get(word)\n",
        "    if embedding_vector is not None:\n",
        "        # words not found in embedding index will be all-zeros.\n",
        "        embedding_matrix[i] = embedding_vector\n",
        "        \n",
        "embedding_layer = Embedding(len(word_index) + 1,\n",
        "                            EMBEDDING_DIM,\n",
        "                            weights=[embedding_matrix],\n",
        "                            input_length=MAX_SEQUENCE_LENGTH)"
      ],
      "execution_count": null,
      "outputs": [
        {
          "output_type": "stream",
          "text": [
            "Total 400000 word vectors in Glove.\n"
          ],
          "name": "stdout"
        }
      ]
    },
    {
      "cell_type": "markdown",
      "metadata": {
        "id": "_8X-2dq0bgpo"
      },
      "source": [
        "# CNN & LSTM Model to be train"
      ]
    },
    {
      "cell_type": "code",
      "metadata": {
        "colab": {
          "base_uri": "https://localhost:8080/"
        },
        "id": "EeYXr-9IDqAz",
        "outputId": "d1d177bb-1e3c-41ee-8d65-5886d9fe313f"
      },
      "source": [
        "EPOCHS = 10\n",
        "modell = Sequential()\n",
        "modell.add(embedding_layer)\n",
        "# modell.add(Dropout(0.2))\n",
        "modell.add(Conv1D(filters=32, kernel_size=5, padding='same', activation='relu'))\n",
        "modell.add(MaxPooling1D(pool_size=2))\n",
        "modell.add(Conv1D(filters=64, kernel_size=3, padding='same', activation='relu'))\n",
        "modell.add(MaxPooling1D(pool_size=2))\n",
        "modell.add(LSTM(100,D))\n",
        "modell.add(BatchNormalization())\n",
        "modell.add(Dense(256, activation='relu'))\n",
        "modell.add(Dense(128, activation='relu'))\n",
        "modell.add(Dense(64, activation='relu'))\n",
        "modell.add(Dense(1, activation='sigmoid'))\n",
        "modell.compile(loss='binary_crossentropy', optimizer='adam', metrics=['accuracy'])\n",
        "print(modell.summary())\n",
        "history=modell.fit(x_train, y_train, epochs=EPOCHS, batch_size=64,validation_data=(x_val,y_val))\n",
        "\n",
        "modell.save('lstm_ISOT.h5')"
      ],
      "execution_count": null,
      "outputs": [
        {
          "output_type": "stream",
          "text": [
            "Model: \"sequential_2\"\n",
            "_________________________________________________________________\n",
            "Layer (type)                 Output Shape              Param #   \n",
            "=================================================================\n",
            "embedding (Embedding)        (None, 1000, 100)         16669800  \n",
            "_________________________________________________________________\n",
            "conv1d_4 (Conv1D)            (None, 1000, 32)          16032     \n",
            "_________________________________________________________________\n",
            "max_pooling1d_4 (MaxPooling1 (None, 500, 32)           0         \n",
            "_________________________________________________________________\n",
            "conv1d_5 (Conv1D)            (None, 500, 64)           6208      \n",
            "_________________________________________________________________\n",
            "max_pooling1d_5 (MaxPooling1 (None, 250, 64)           0         \n",
            "_________________________________________________________________\n",
            "lstm_2 (LSTM)                (None, 100)               66000     \n",
            "_________________________________________________________________\n",
            "batch_normalization_2 (Batch (None, 100)               400       \n",
            "_________________________________________________________________\n",
            "dense_8 (Dense)              (None, 256)               25856     \n",
            "_________________________________________________________________\n",
            "dense_9 (Dense)              (None, 128)               32896     \n",
            "_________________________________________________________________\n",
            "dense_10 (Dense)             (None, 64)                8256      \n",
            "_________________________________________________________________\n",
            "dense_11 (Dense)             (None, 1)                 65        \n",
            "=================================================================\n",
            "Total params: 16,825,513\n",
            "Trainable params: 16,825,313\n",
            "Non-trainable params: 200\n",
            "_________________________________________________________________\n",
            "None\n",
            "Epoch 1/10\n",
            "562/562 [==============================] - 106s 185ms/step - loss: 0.0882 - accuracy: 0.9635 - val_loss: 0.0492 - val_accuracy: 0.9826\n",
            "Epoch 2/10\n",
            "562/562 [==============================] - 105s 186ms/step - loss: 0.0037 - accuracy: 0.9992 - val_loss: 0.0300 - val_accuracy: 0.9895\n",
            "Epoch 3/10\n",
            "562/562 [==============================] - 103s 184ms/step - loss: 0.0014 - accuracy: 0.9997 - val_loss: 3.9816 - val_accuracy: 0.5448\n",
            "Epoch 4/10\n",
            "562/562 [==============================] - 102s 181ms/step - loss: 0.0011 - accuracy: 0.9998 - val_loss: 0.2830 - val_accuracy: 0.9347\n",
            "Epoch 5/10\n",
            "562/562 [==============================] - 101s 180ms/step - loss: 0.0024 - accuracy: 0.9995 - val_loss: 0.0063 - val_accuracy: 0.9991\n",
            "Epoch 6/10\n",
            "562/562 [==============================] - 102s 181ms/step - loss: 5.6686e-04 - accuracy: 0.9998 - val_loss: 0.0072 - val_accuracy: 0.9991\n",
            "Epoch 7/10\n",
            "562/562 [==============================] - 101s 180ms/step - loss: 6.6157e-04 - accuracy: 0.9999 - val_loss: 0.0570 - val_accuracy: 0.9909\n",
            "Epoch 8/10\n",
            "562/562 [==============================] - 101s 180ms/step - loss: 8.6700e-04 - accuracy: 0.9998 - val_loss: 0.0075 - val_accuracy: 0.9991\n",
            "Epoch 9/10\n",
            "562/562 [==============================] - 101s 179ms/step - loss: 0.0029 - accuracy: 0.9992 - val_loss: 0.0054 - val_accuracy: 0.9987\n",
            "Epoch 10/10\n",
            "562/562 [==============================] - 101s 179ms/step - loss: 2.2613e-04 - accuracy: 0.9999 - val_loss: 0.0147 - val_accuracy: 0.9964\n"
          ],
          "name": "stdout"
        }
      ]
    },
    {
      "cell_type": "markdown",
      "metadata": {
        "id": "NuwUdicAbl9K"
      },
      "source": [
        "## Print training graph"
      ]
    },
    {
      "cell_type": "code",
      "metadata": {
        "colab": {
          "base_uri": "https://localhost:8080/",
          "height": 545
        },
        "id": "fi_ZX7LlWwEO",
        "outputId": "c3fa31e4-e3a6-42df-d93e-b408e6862a80"
      },
      "source": [
        "import matplotlib.pyplot as plt\n",
        "import seaborn as sns\n",
        "\n",
        "plt.plot(range(EPOCHS),history.history['loss'])\n",
        "plt.plot(range(EPOCHS),history.history['val_loss'])\n",
        "plt.title(\"Training loss and validation loss v/s epoch\")\n",
        "plt.legend([\"Training_loss\",\"Validation_loss\"])\n",
        "plt.savefig(\"Training loss and validation loss.jpg\")\n",
        "plt.show()\n",
        "\n",
        "plt.figure()\n",
        "plt.plot(range(EPOCHS),history.history['accuracy'])\n",
        "plt.plot(range(EPOCHS),history.history['val_accuracy'])\n",
        "plt.title(\"Training accuracy and validation accuracy v/s epoch\")\n",
        "plt.legend([\"Training_accuracy\",\"Validation_accuracy\"])\n",
        "plt.savefig(\"Training accuracy and validation accuracy.jpg\")\n",
        "plt.show()"
      ],
      "execution_count": null,
      "outputs": [
        {
          "output_type": "display_data",
          "data": {
            "image/png": "[encoded data removed]",
            "text/plain": [
              "<Figure size 432x288 with 1 Axes>"
            ]
          },
          "metadata": {
            "tags": [],
            "needs_background": "light"
          }
        },
        {
          "output_type": "display_data",
          "data": {
            "image/png": "[encoded data removed]",
            "text/plain": [
              "<Figure size 432x288 with 1 Axes>"
            ]
          },
          "metadata": {
            "tags": [],
            "needs_background": "light"
          }
        }
      ]
    }
  ]
}